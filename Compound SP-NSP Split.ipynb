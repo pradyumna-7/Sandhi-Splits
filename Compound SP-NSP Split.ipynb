{
 "cells": [
  {
   "cell_type": "code",
   "execution_count": 1,
   "id": "9bc57513",
   "metadata": {},
   "outputs": [],
   "source": [
    "def sandhiPoint(sandhi, split):\n",
    "    sandhi = sandhi.strip()\n",
    "    split = split.strip()\n",
    "    split = split.replace(\"+\", \"\")\n",
    "    arr = []\n",
    "    j = 0\n",
    "    for i in range(len(sandhi)):\n",
    "        if j<len(split) and sandhi[i]==split[j]:\n",
    "            arr.append(\"NSP\")\n",
    "        else:\n",
    "            if split[j]==\" \":\n",
    "                continue\n",
    "            else:\n",
    "                arr.append(\"SP\")\n",
    "            j+=1"
   ]
  },
  {
   "cell_type": "code",
   "execution_count": 1,
   "id": "0c8151c5",
   "metadata": {},
   "outputs": [],
   "source": [
    "def split(word):\n",
    "    word = word.replace(\" \",\"\")\n",
    "    l = list(word)\n",
    "    return l"
   ]
  },
  {
   "cell_type": "code",
   "execution_count": 16,
   "id": "9a6292cf-8696-4c1a-a064-727c0c9e07de",
   "metadata": {},
   "outputs": [
    {
     "name": "stdout",
     "output_type": "stream",
     "text": [
      "['य', 'ो', 'य', 'स', '्', 'म', 'ा', 'ज', '्', 'ज', 'ा', 'य', 'त', 'े']\n",
      "['य', 'ः']['य', 'स', '्', 'म', 'ा', 'त', '्']['ज', 'ा', 'य', 'त', 'े']\n"
     ]
    }
   ],
   "source": [
    "print(split(\"यो यस्माज्जायते\"))\n",
    "print(split(\"यः\"), end=\"\")\n",
    "print(split(\"यस्मात्\"), end=\"\")\n",
    "print(split(\"जायते\"))"
   ]
  },
  {
   "cell_type": "code",
   "execution_count": 2,
   "id": "bac9caa5",
   "metadata": {},
   "outputs": [
    {
     "name": "stdout",
     "output_type": "stream",
     "text": [
      "['न', 'ा', 'न', 'ो', 'र', '्', 'ज', '्', 'ञ', 'ः']\n",
      "['न']['अ', 'न', 'ो', 'ः']['ज', '्', 'ञ', 'ः']\n"
     ]
    }
   ],
   "source": [
    "print(split(\"नानोर्ज्ञः\"))\n",
    "print(split(\"न\"), end=\"\")\n",
    "print(split(\"अनोः\"), end=\"\")\n",
    "print(split(\"ज्ञः\"))"
   ]
  },
  {
   "cell_type": "code",
   "execution_count": 3,
   "id": "ca66c3ad",
   "metadata": {},
   "outputs": [
    {
     "name": "stdout",
     "output_type": "stream",
     "text": [
      "['स', '्', 'थ', 'ा', 'न', 'ि', 'व', 'द', 'ा', 'द', 'े', 'श', 'ो', 'ऽ', 'न', 'ल', '्', 'व', 'ि', 'ध', 'ौ']\n",
      "['स', '्', 'थ', 'ा', 'न', 'ि', 'व', 'त', '्']['आ', 'द', 'े', 'श', 'ः']['अ', 'न', 'ल', '्', 'व', 'ि', 'ध', 'ौ']\n"
     ]
    }
   ],
   "source": [
    "l = split(\"स्थानिवदादेशोऽनल्विधौ\")\n",
    "# l.remove('ऽ')\n",
    "print(l)\n",
    "print(split(\"स्थानिवत्\"), end=\"\")\n",
    "print(split(\"आदेशः\"), end=\"\")\n",
    "print(split(\"अनल्विधौ\"))"
   ]
  },
  {
   "cell_type": "code",
   "execution_count": 4,
   "id": "043595ab-4578-4eb0-a1ef-523263325b0e",
   "metadata": {},
   "outputs": [
    {
     "name": "stdout",
     "output_type": "stream",
     "text": [
      "['स', 'म', '्', 'ब', 'ु', 'द', '्', 'ध', 'ौ', 'श', 'ा', 'क', 'ल', '्', 'य', 'स', '्', 'य', 'े', 'त', 'ा', 'व', 'न', 'ा', 'र', '्', 'ष', 'े']\n",
      "['स', 'म', '्', 'ब', 'ु', 'द', '्', 'ध', 'ौ']['श', 'ा', 'क', 'ल', '्', 'य', 'स', '्', 'य']['इ', 'त', 'ौ']['अ', 'न', 'ा', 'र', '्', 'ष', 'े']\n"
     ]
    }
   ],
   "source": [
    "print(split(\"सम्बुद्धौ शाकल्यस्येतावनार्षे\"))\n",
    "print(split(\"सम्बुद्धौ\"), end=\"\")\n",
    "print(split(\"शाकल्यस्य\"), end=\"\")\n",
    "print(split(\"इतौ\"), end=\"\")\n",
    "print(split(\"अनार्षे\"))"
   ]
  },
  {
   "cell_type": "code",
   "execution_count": 5,
   "id": "7aba4996-5448-44b0-a818-3b95da702f7d",
   "metadata": {},
   "outputs": [
    {
     "name": "stdout",
     "output_type": "stream",
     "text": [
      "['भ', 'ू', 'ष', 'ण', 'े', 'ऽ', 'ल', 'म', '्']\n",
      "['भ', 'ू', 'ष', 'ण', 'े'] ['अ', 'ल', 'म', '्'] "
     ]
    }
   ],
   "source": [
    "print(split(\"भूषणेऽलम्\"))\t\n",
    "print(split(\"भूषणे\"), end=\" \")\n",
    "print(split(\"अलम्\"), end=\" \")"
   ]
  },
  {
   "cell_type": "code",
   "execution_count": 6,
   "id": "04c02f16-ae3d-403c-84cc-5b3f57d5730f",
   "metadata": {},
   "outputs": [
    {
     "name": "stdout",
     "output_type": "stream",
     "text": [
      "['त', 'ृ', 'त', 'ी', 'य', 'ा', 'त', 'त', '्', 'क', 'ृ', 'त', 'ा', 'र', '्', 'थ', 'े', 'न', 'ग', 'ु', 'ण', 'व', 'च', 'न', 'े', 'न']\n",
      "['त', 'ृ', 'त', 'ी', 'य', 'ा']['त', 'त', '्', 'क', 'ृ', 'त']['अ', 'र', '्', 'थ', 'े', 'न']['ग', 'ु', 'ण', 'व', 'च', 'न', 'े', 'न']\n"
     ]
    }
   ],
   "source": [
    "print(split(\"तृतीया तत्कृतार्थेन गुणवचनेन\"))\n",
    "print(split(\"तृतीया\"), end=\"\")\n",
    "print(split(\"तत्कृत\"), end=\"\")\n",
    "print(split(\"अर्थेन\"), end=\"\")\n",
    "print(split(\"गुणवचनेन\"))"
   ]
  },
  {
   "cell_type": "code",
   "execution_count": 7,
   "id": "1c27beef-d8a6-4b8b-b37b-d74d4f92c9ad",
   "metadata": {},
   "outputs": [],
   "source": [
    "def load(file_path):\n",
    "    with open(file_path, 'r', encoding='utf-8') as file:\n",
    "        lines = file.readlines()\n",
    "    return lines\n",
    "\n",
    "def save_output(result, output_file):\n",
    "    with open(output_file, 'w', encoding='utf-8') as file:\n",
    "        for line in result:\n",
    "            file.write(line + \"\\n\")\n",
    "\n",
    "vowels = ['अ', 'आ', 'इ', 'ई', 'उ', 'ऊ', 'ऋ', 'ॠ', 'ए', 'ऐ', 'ओ', 'औ']\n",
    "# def seq(sandhi_chars, split_word_lists):\n",
    "#     sp_nsp_seq = ['NSP'] * len(sandhi_chars)  # Initialize the list with \"NSP\"\n",
    "    \n",
    "#     word_index = 0  # Index for current split word list\n",
    "#     split_char_index = 0  # Index for characters in current split word\n",
    "#     sandhi_index = 0  # Index for characters in sandhi_chars\n",
    "\n",
    "#     while (word_index < len(split_word_lists)) and (sandhi_index < len(sandhi_chars)):\n",
    "#         current_word = split_word_lists[word_index]\n",
    "\n",
    "#         if split_char_index==len(current_word):\n",
    "#             word_index+=1\n",
    "#             split_char_index=0\n",
    "#             sandhi_index+=1\n",
    "#             continue\n",
    "\n",
    "#         if split_char_index < len(current_word) and sandhi_chars[sandhi_index] == current_word[split_char_index]:\n",
    "#             split_char_index += 1\n",
    "#         else:\n",
    "#             sp_nsp_seq[sandhi_index] = 'SP'\n",
    "#             if split_char_index == 0:  # This means we matched the first character\n",
    "#                 sandhi_index += len(current_word) - 1\n",
    "#                 split_char_index = len(current_word)-1\n",
    "            \n",
    "\n",
    "#     return sp_nsp_seq\n",
    "        "
   ]
  },
  {
   "cell_type": "code",
   "execution_count": 17,
   "id": "4cdc5bd1-004f-456b-9298-3b7bff45a635",
   "metadata": {},
   "outputs": [],
   "source": [
    "def load(file_path):\n",
    "    with open(file_path, 'r', encoding='utf-8') as file:\n",
    "        lines = file.readlines()\n",
    "    return lines\n",
    "\n",
    "def save_output(result, output_file):\n",
    "    with open(output_file, 'w', encoding='utf-8') as file:\n",
    "        for line in result:\n",
    "            file.write(line + \"\\n\")\n",
    "\n",
    "vowels = ['अ', 'आ', 'इ', 'ई', 'उ', 'ऊ', 'ऋ', 'ॠ', 'ए', 'ऐ', 'ओ', 'औ']\n",
    "def seq(sandhi_chars, split_word_lists):\n",
    "    sp_nsp_seq = ['NSP'] * len(sandhi_chars)  # Initialize the list with \"NSP\"\n",
    "    \n",
    "    word_index = 0  # Index for current split word list\n",
    "    split_char_index = 0  # Index for characters in current split word\n",
    "    sandhi_index = 0  # Index for characters in sandhi_chars\n",
    "\n",
    "    while word_index < len(split_word_lists) and sandhi_index < len(sandhi_chars):\n",
    "        current_word = split_word_lists[word_index]\n",
    "\n",
    "        if split_char_index >= len(current_word):\n",
    "            word_index += 1\n",
    "            # sandhi_index += 1\n",
    "            split_char_index = 0\n",
    "            # print(\"hellllooooo\")\n",
    "            continue\n",
    "\n",
    "        if split_char_index < len(current_word) and current_word[split_char_index] == sandhi_chars[sandhi_index]:\n",
    "            sandhi_index += 1\n",
    "            split_char_index += 1\n",
    "            # print(\"hiiiii\")\n",
    "        else:\n",
    "            sp_nsp_seq[sandhi_index] = 'SP'\n",
    "            # if split_char_index == 0 and len(current_word)>1:\n",
    "            #     sandhi_index += (len(current_word) - 1)\n",
    "            #     split_char_index = len(current_word) - 1\n",
    "                # print(\"hello\")\n",
    "            # else:\n",
    "            if(split_char_index==len(current_word)-1):\n",
    "                sandhi_index+=1\n",
    "            else:\n",
    "                sandhi_index += 2\n",
    "            word_index += 1\n",
    "            split_char_index = 0\n",
    "            if(word_index<len(split_word_lists)): \n",
    "               current_word = split_word_lists[word_index]\n",
    "               if current_word and current_word[0] in vowels and 'SP' in sp_nsp_seq:\n",
    "                   split_char_index = 1\n",
    "\n",
    "\n",
    "                # print(\"bye\")\n",
    "\n",
    "    return sp_nsp_seq\n",
    "                \n",
    "                "
   ]
  },
  {
   "cell_type": "code",
   "execution_count": 18,
   "id": "e78a9542-8cf4-41d6-b8d6-abf70a1677a1",
   "metadata": {},
   "outputs": [],
   "source": [
    "data = load(\"sandhiset (1).txt\")\n",
    "result = []\n",
    "for entry in data:\n",
    "    if '=>' in entry:\n",
    "        # print(\"inside if\")\n",
    "        cleaned_entry = entry.strip().replace('\\t', '')\n",
    "        sandhi_word, split_word = cleaned_entry.split('=>')\n",
    "        sandhi_word = sandhi_word.strip().replace('\\t', '')\n",
    "        split_word = split_word.strip().split('+')\n",
    "        \n",
    "        sandhi_chars = split(sandhi_word)\n",
    "        split_word_list = [split(word) for word in split_word]\n",
    "        \n",
    "        sp_nsp_sequence = seq(sandhi_chars, split_word_list)\n",
    "        result.append(f\"{' '.join(sandhi_chars)}\\t{' '.join(sp_nsp_sequence)}\")\n",
    "\n",
    "save_output(result, \"dataset.txt\")\n"
   ]
  },
  {
   "cell_type": "code",
   "execution_count": null,
   "id": "8e706dbe-9fa4-4eec-a703-3274c3830f7e",
   "metadata": {},
   "outputs": [],
   "source": [
    "\n",
    "\n",
    "# def seq1(sandhi_chars, split_word_lists):\n",
    "#     sp_nsp_seq = ['NSP'] * len(sandhi_chars)  # Initialize the list with \"NSP\"\n",
    "    \n",
    "#     word_index = 0  # Index for current split word list\n",
    "#     split_char_index = 0  # Index for characters in current split word\n",
    "#     sandhi_index = 0  # Index for characters in sandhi_chars\n",
    "\n",
    "#     while (word_index < len(split_word_lists)) and (sandhi_index < len(sandhi_chars)):\n",
    "#         current_word = split_word_lists[word_index]\n",
    "\n",
    "#         if split_char_index==len(current_word):\n",
    "#             word_index+=1\n",
    "#             split_char_index=0\n",
    "\n",
    "#         # Compare the current sandhi character with the current split word character\n",
    "#         if split_char_index < len(current_word) and sandhi_chars[sandhi_index] == current_word[split_char_index]:\n",
    "#             # If characters match, move to the next character in both sandhi_chars and split word\n",
    "#             split_char_index += 1\n",
    "#         else:\n",
    "#             # If there's a mismatch, it's a Sandhi Point\n",
    "#             sp_nsp_seq[sandhi_index] = 'SP'\n",
    "\n",
    "#             # Move to the next split word\n",
    "#             word_index += 1\n",
    "#             split_char_index = 1  # Reset index for the new split word list\n",
    "\n",
    "#             sandhi_index+=1\n",
    "\n",
    "#         # Move to the next character in sandhi_chars\n",
    "#         sandhi_index += 1\n",
    "\n",
    "#     return sp_nsp_seq\n",
    "\n",
    "# # Example input\n",
    "# sandhi_chars = ['स', '्', 'थ', 'ा', 'न', 'ि', 'व', 'द', 'ा', 'द', 'े', 'श', 'ो', 'ऽ', 'न', 'ल', '्', 'व', 'ि', 'ध', 'ौ']\n",
    "# split_word_lists = [['स', '्', 'थ', 'ा', 'न', 'ि', 'व', 'त', '्'], \n",
    "#                     ['आ', 'द', 'े', 'श', 'ः'], \n",
    "#                     ['अ', 'न', 'ल', '्', 'व', 'ि', 'ध', 'ौ']]\n",
    "\n",
    "# # Generate SP/NSP sequence\n",
    "# sp_nsp_sequence = seq1(sandhi_chars, split_word_lists)\n",
    "\n",
    "# # Output the result\n",
    "# print(' '.join(sandhi_chars))\n",
    "# print(' '.join(sp_nsp_sequence))\n"
   ]
  },
  {
   "cell_type": "code",
   "execution_count": 40,
   "id": "7f35cf79-a05e-402c-bb6a-8690f238ac2f",
   "metadata": {},
   "outputs": [
    {
     "ename": "SyntaxError",
     "evalue": "Missing parentheses in call to 'print'. Did you mean print(...)? (2160584320.py, line 1)",
     "output_type": "error",
     "traceback": [
      "\u001b[1;36m  Cell \u001b[1;32mIn[40], line 1\u001b[1;36m\u001b[0m\n\u001b[1;33m    print          s   (9)\u001b[0m\n\u001b[1;37m    ^\u001b[0m\n\u001b[1;31mSyntaxError\u001b[0m\u001b[1;31m:\u001b[0m Missing parentheses in call to 'print'. Did you mean print(...)?\n"
     ]
    }
   ],
   "source": []
  },
  {
   "cell_type": "code",
   "execution_count": null,
   "id": "9e2dfcaa-a10a-4fe1-8bcb-388ccff94d52",
   "metadata": {},
   "outputs": [],
   "source": []
  }
 ],
 "metadata": {
  "kernelspec": {
   "display_name": "Python 3 (ipykernel)",
   "language": "python",
   "name": "python3"
  },
  "language_info": {
   "codemirror_mode": {
    "name": "ipython",
    "version": 3
   },
   "file_extension": ".py",
   "mimetype": "text/x-python",
   "name": "python",
   "nbconvert_exporter": "python",
   "pygments_lexer": "ipython3",
   "version": "3.12.7"
  }
 },
 "nbformat": 4,
 "nbformat_minor": 5
}
